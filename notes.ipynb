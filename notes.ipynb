{
 "cells": [
  {
   "cell_type": "markdown",
   "source": [
    "### Project ides\n",
    "Using process 3 and plot the trace, its in book page 65, shows the markov property of the stock price\n",
    "\n",
    "### note\n",
    "There is not terminal state in stock market situations"
   ],
   "metadata": {
    "collapsed": false
   }
  },
  {
   "cell_type": "markdown",
   "source": [
    "when the state space os large, this direct method of sloving a linear system of equations won't scale, and we have to resort to numerical methods to solve the Bellnab Equation"
   ],
   "metadata": {
    "collapsed": false
   }
  },
  {
   "cell_type": "markdown",
   "source": [
    "### Dynamic prgramming"
   ],
   "metadata": {
    "collapsed": false
   }
  },
  {
   "cell_type": "markdown",
   "source": [
    "# sequential uncertainty"
   ],
   "metadata": {
    "collapsed": false
   }
  },
  {
   "cell_type": "markdown",
   "source": [
    "### Bellman equation\n",
    "express the value function recursively, core idea within all dynamic programming and reinforcment learning"
   ],
   "metadata": {
    "collapsed": false
   }
  },
  {
   "cell_type": "markdown",
   "source": [
    "intergal instead of summation, probability density function instead of probability mass function\n",
    "-\n",
    "continuous time, uncountable state, action and reward\n"
   ],
   "metadata": {
    "collapsed": false
   }
  },
  {
   "cell_type": "markdown",
   "source": [
    "continuous values, state/action space representation (especially when paired with continuous time) (continuous probability distribution (Gaussian))\n",
    "\n",
    "models stock price/portolio values as Gaussian evolutions in contimuous time and trades (buy/sell quantities) as continuous variables (permitting partial derivative and traceable partial differencial equations)"
   ],
   "metadata": {
    "collapsed": false
   }
  },
  {
   "cell_type": "code",
   "execution_count": null,
   "outputs": [],
   "source": [],
   "metadata": {
    "collapsed": false
   }
  }
 ],
 "metadata": {
  "kernelspec": {
   "display_name": "Python 3",
   "language": "python",
   "name": "python3"
  },
  "language_info": {
   "codemirror_mode": {
    "name": "ipython",
    "version": 2
   },
   "file_extension": ".py",
   "mimetype": "text/x-python",
   "name": "python",
   "nbconvert_exporter": "python",
   "pygments_lexer": "ipython2",
   "version": "2.7.6"
  }
 },
 "nbformat": 4,
 "nbformat_minor": 0
}
