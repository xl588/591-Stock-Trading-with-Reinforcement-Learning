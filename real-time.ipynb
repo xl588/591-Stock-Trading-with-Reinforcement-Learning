{
 "cells": [
  {
   "cell_type": "markdown",
   "metadata": {},
   "source": [
    "## Live Training Environment"
   ]
  },
  {
   "cell_type": "code",
   "execution_count": 7,
   "metadata": {
    "collapsed": true
   },
   "outputs": [],
   "source": [
    "import pandas as pd\n",
    "import numpy as np\n",
    "import random\n",
    "import time\n",
    "from collections import deque\n",
    "import yfinance as yf\n",
    "\n",
    "import numpy as np\n",
    "from keras.models import Sequential\n",
    "from keras.layers import Dense\n",
    "from keras.optimizers import Adam"
   ]
  },
  {
   "cell_type": "code",
   "execution_count": 3,
   "metadata": {
    "collapsed": false
   },
   "outputs": [
    {
     "data": {
      "text/plain": [
       "107.82"
      ]
     },
     "execution_count": 3,
     "metadata": {},
     "output_type": "execute_result"
    }
   ],
   "source": [
    "ticker = yf.Ticker('GOOG').info['currentPrice']\n",
    "ticker"
   ]
  },
  {
   "cell_type": "code",
   "execution_count": 5,
   "metadata": {},
   "outputs": [],
   "source": [
    "class Agent:\n",
    "        def __init__(self):\n",
    "            self.state_size = 5 \n",
    "            self.action_size = 3 # sit, buy, sell\n",
    "            self.memory = deque(maxlen=1000)\n",
    "            self.inventory = []\n",
    "            self.model = self._model()\n",
    "            self.gamma = 0.95\n",
    "            self.epsilon = 1.0\n",
    "            self.epsilon_min = 0.01\n",
    "            self.epsilon_decay = 0.995\n",
    "            self.loss_l = []\n",
    "            self.val_loss_l = []\n",
    "\n",
    "        def _model(self):\n",
    "            model = Sequential()\n",
    "            model.add(Dense(units=64, input_dim=self.state_size, activation=\"relu\"))\n",
    "            model.add(Dense(units=32, activation=\"relu\"))\n",
    "            model.add(Dense(units=8, activation=\"relu\"))\n",
    "            model.add(Dense(self.action_size, activation=\"linear\"))\n",
    "            model.compile(loss=\"mse\", optimizer=Adam(learning_rate=0.001))\n",
    "            return model\n",
    "\n",
    "        def act(self, state):\n",
    "            if random.random()<= self.epsilon:\n",
    "                return random.randrange(self.action_size)\n",
    "            options = self.model.predict(state, verbose=0)\n",
    "            return np.argmax(options[0])\n",
    "\n",
    "        def opt_model(self):\n",
    "\n",
    "            state_l = []\n",
    "            y_f_l = []\n",
    "\n",
    "            for state, action, reward, next_state in self.memory:\n",
    "\n",
    "                state_l.append(state)\n",
    "                y = reward + self.gamma * np.amax(self.model.predict(np.array([next_state]),verbose=0)[0])\n",
    "                y_f = self.model.predict(np.array([state]), verbose=0)\n",
    "                y_f[0][action] = y\n",
    "                y_f_l.append(y_f)\n",
    "\n",
    "            train_history = self.model.fit(np.array(state_l), np.array(y_f_l), epochs=1, verbose=0)\n",
    "            self.loss_l.append(train_history.history['loss'])\n",
    "            #self.val_loss_l.append(train_history.history['val_loss'])\n",
    "\n",
    "            if self.epsilon > self.epsilon_min:\n",
    "                self.epsilon *= self.epsilon_decay"
   ]
  },
  {
   "cell_type": "code",
   "execution_count": 6,
   "metadata": {},
   "outputs": [],
   "source": [
    "def getState(data, t, n):\n",
    "    window = data[5+t-n+1:5+t + 1]\n",
    "    return window"
   ]
  },
  {
   "cell_type": "code",
   "execution_count": 27,
   "metadata": {},
   "outputs": [
    {
     "name": "stdout",
     "output_type": "stream",
     "text": [
      "Sell on empty inventory\n",
      "Sell on empty inventory\n",
      "Sit\n",
      "Buy: 1.1007154\n",
      "Sell: 1.1007154 | Profit: 0.0\n",
      "Sell on empty inventory\n",
      "-----------------Policy optimization -0- ----------------\n",
      "Sit\n",
      "Buy: 1.1007154\n",
      "Sit\n",
      "Buy: 1.1007154\n",
      "Sit\n",
      "-----------------Policy optimization -1- ----------------\n"
     ]
    }
   ],
   "source": [
    "window_size = 5  # state space size, consist with previous window_size days\n",
    "agent = Agent()\n",
    "t_p = []\n",
    "data_hist = np.empty(1)\n",
    "data_hist[-1] = yf.Ticker('EURUSD=X').info['ask'] \n",
    "\n",
    "for i in range(2):\n",
    "\n",
    "    #state = getState(data_hist, len(data_hist) -1 - window_size, window_size)\n",
    "    state = []\n",
    "    for k in range(window_size):\n",
    "        current = yf.Ticker('EURUSD=X').info['ask']\n",
    "        state.append(current)\n",
    "        data_hist = np.append(data_hist, current)\n",
    "        time.sleep(2)\n",
    "\n",
    "    total_profit = 0\n",
    "    agent.inventory = []\n",
    "    for t in range(5):\n",
    "        action = agent.act(state)\n",
    "        reward = 0\n",
    "        current_price = yf.Ticker('EURUSD=X').info['ask']\n",
    "        # sit\n",
    "        if action == 0:\n",
    "            print(\"Sit\")\n",
    "        # buy\n",
    "        elif action == 1:\n",
    "            if len(agent.inventory) == 0:\n",
    "                agent.inventory.append(current_price)\n",
    "            else:\n",
    "                agent.inventory[0] += current_price\n",
    "            print(\"Buy: \" + str(current_price))\n",
    "        # sell\n",
    "        elif action == 2 and len(agent.inventory) > 0:\n",
    "            bought_price = window_size_price = agent.inventory.pop(0)\n",
    "            reward = max(current_price - bought_price, 0)\n",
    "            total_profit += current_price - bought_price\n",
    "            t_p.append(total_profit)\n",
    "            print(\"Sell: \" + str(current_price) + \" | Profit: \" + str(float(current_price - bought_price)))\n",
    "\n",
    "        if action == 2 and len(agent.inventory) >= 0:\n",
    "            print(\"Sell on empty inventory\")\n",
    "\n",
    "        data_hist = np.append(data_hist, current_price)\n",
    "        #next_state = getState(data_hist, len(data_hist) -1 - window_size, window_size)\n",
    "        next_state = data_hist[-5:]\n",
    "        #done = False\n",
    "        agent.memory.append((state, action, reward, next_state))\n",
    "        state = next_state\n",
    "\n",
    "        time.sleep(2)\n",
    "\n",
    "    print(\"-----------------Policy optimization -\" + str(i) + \"- ----------------\")\n",
    "    agent.opt_model()"
   ]
  }
 ],
 "metadata": {
  "kernelspec": {
   "display_name": "Python 3.10.9 ('TF')",
   "language": "python",
   "name": "python3"
  },
  "language_info": {
   "codemirror_mode": {
    "name": "ipython",
    "version": 3
   },
   "file_extension": ".py",
   "mimetype": "text/x-python",
   "name": "python",
   "nbconvert_exporter": "python",
   "pygments_lexer": "ipython3",
   "version": "3.10.9"
  },
  "vscode": {
   "interpreter": {
    "hash": "3a7a2212f45f3f63f6257f819ae341897101d4b199861a5deb5ef5579823a8a2"
   }
  }
 },
 "nbformat": 4,
 "nbformat_minor": 0
}
